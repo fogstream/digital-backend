{
 "cells": [
  {
   "cell_type": "code",
   "execution_count": 49,
   "metadata": {},
   "outputs": [],
   "source": [
    "\n",
    "import sys\n",
    "import os\n",
    "import django\n",
    "\n",
    "os.environ['DJANGO_SETTINGS_MODULE']='digital_backend.settings.dev'\n",
    "django.setup()"
   ]
  },
  {
   "cell_type": "markdown",
   "metadata": {},
   "source": [
    "http://zakupki.gov.ru/\n",
    "\n",
    "http://www.consultant.ru\n",
    "\n",
    "http://www.spark-interfax.ru\n",
    "\n",
    "https://zachestnyibiznes.ru/api\n",
    "\n",
    "https://api-ip.fssprus.ru/\n",
    "\n",
    "https://sbis.ru/help/integration/api/model_data"
   ]
  },
  {
   "cell_type": "code",
   "execution_count": 44,
   "metadata": {},
   "outputs": [
    {
     "data": {
      "text/plain": [
       "{'jsonrpc': '2.0',\n",
       " 'error': {'code': -32700,\n",
       "  'message': '',\n",
       "  'details': 'Parse error (offset 0): Invalid value.',\n",
       "  'type': 'error',\n",
       "  'data': {'classid': '{f4101a18-9ea7-447d-9f98-9a951643f9f0}',\n",
       "   'error_code': -1,\n",
       "   'addinfo': None}},\n",
       " 'id': None}"
      ]
     },
     "execution_count": 44,
     "metadata": {},
     "output_type": "execute_result"
    }
   ],
   "source": [
    "import requests\n",
    "\n",
    "requests.post(\n",
    "    'https://online.sbis.ru/auth/service/',\n",
    "    data = {\n",
    "      \"jsonrpc\": 2.0,\n",
    "      \"method\": \"СБИС.Аутентифицировать\",\n",
    "      \"params\": {\n",
    "        \"Параметр\": {\n",
    "          \"Логин\": \"dmitrii.kotov\",\n",
    "          \"Пароль\": \"!123qwe123\"\n",
    "        }\n",
    "      },\n",
    "      \"id\": 0\n",
    "    },\n",
    "    headers={\n",
    "        \"Content-Type\": \"application/json-rpc;charset=utf-8\",\n",
    "        \"Accept\": \"*/*\"\n",
    "    }\n",
    ").json()"
   ]
  },
  {
   "cell_type": "code",
   "execution_count": 52,
   "metadata": {},
   "outputs": [],
   "source": [
    "from digital_backend.apps.suppliers.models import TenderMember, Tender, Supplier, Vote\n",
    "from digital_backend.apps.criteria.models import Criterion\n",
    "\n",
    "for c in Criterion.objects.all():\n",
    "    for s in Supplier.objects.all():\n",
    "        Vote.objects.update_or_create(supplier=s, criterion=c, defaults={\"score\": 1})"
   ]
  }
 ],
 "metadata": {
  "kernelspec": {
   "display_name": "Python 3",
   "language": "python",
   "name": "python3"
  },
  "language_info": {
   "codemirror_mode": {
    "name": "ipython",
    "version": 3
   },
   "file_extension": ".py",
   "mimetype": "text/x-python",
   "name": "python",
   "nbconvert_exporter": "python",
   "pygments_lexer": "ipython3",
   "version": "3.7.3"
  }
 },
 "nbformat": 4,
 "nbformat_minor": 2
}
